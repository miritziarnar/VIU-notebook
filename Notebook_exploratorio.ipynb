{
  "nbformat": 4,
  "nbformat_minor": 0,
  "metadata": {
    "colab": {
      "provenance": [],
      "toc_visible": true,
      "authorship_tag": "ABX9TyPpdS9SDseEWfIJQm1Gj0SK",
      "include_colab_link": true
    },
    "kernelspec": {
      "name": "python3",
      "display_name": "Python 3"
    },
    "language_info": {
      "name": "python"
    }
  },
  "cells": [
    {
      "cell_type": "markdown",
      "metadata": {
        "id": "view-in-github",
        "colab_type": "text"
      },
      "source": [
        "<a href=\"https://colab.research.google.com/github/miritziarnar/VIU-notebook/blob/main/Notebook_exploratorio.ipynb\" target=\"_parent\"><img src=\"https://colab.research.google.com/assets/colab-badge.svg\" alt=\"Open In Colab\"/></a>"
      ]
    },
    {
      "cell_type": "markdown",
      "source": [
        "# Introduccion a Google Colab\n"
      ],
      "metadata": {
        "id": "ruz1j9_gKcWt"
      }
    },
    {
      "cell_type": "markdown",
      "source": [
        "Google Colab organiza sus documentos, llamados *Notebooks*, en unidades interactivas conocidas como **celdas**. entendes sus tipos es clave para estructurar un proyecto de manera eficiente."
      ],
      "metadata": {
        "id": "V66YjBmUM2N3"
      }
    },
    {
      "cell_type": "markdown",
      "source": [
        "## 1. Celdas de Código\n",
        "\n",
        "| Característica | Descripción |\n",
        "| :--- | :--- |\n",
        "| **Propósito** | Escribir y ejecutar código. |\n",
        "| **Lenguaje Principal** | **Python** (por defecto). |\n",
        "| **Lenguajes Adicionales** | Comandos de **Bash/Shell** (prefijados con `!`, ej: `!pip install library`). |\n",
        "| **Uso** | Realizar cálculos, cargar datos, entrenar modelos de Machine Learning, generar visualizaciones. |\n",
        "| **Creación** | Botón **`+ Código`**. |"
      ],
      "metadata": {
        "id": "TVcHKhAe24g1"
      }
    },
    {
      "cell_type": "code",
      "source": [
        "#Ejemplo de celda de código\n",
        "print(\"Hola mundo\")"
      ],
      "metadata": {
        "colab": {
          "base_uri": "https://localhost:8080/"
        },
        "id": "K7ufMHtvQ0L_",
        "outputId": "f91b7510-58d4-4c51-d9a1-048f985b0980"
      },
      "execution_count": null,
      "outputs": [
        {
          "output_type": "stream",
          "name": "stdout",
          "text": [
            "Hola mundo\n"
          ]
        }
      ]
    },
    {
      "cell_type": "markdown",
      "source": [
        "## 2. Celdas de Texto (Documentación)\n",
        "\n",
        "Las celdas de Texto no ejecutan código, sino que se usan para **documentar y explicar** el trabajo realizado.\n",
        "\n",
        "| Lenguaje de Formato | Propósito | Ejemplo |\n",
        "| :--- | :--- | :--- |\n",
        "| **Markdown** | Formato de texto básico (títulos, negritas, listas). Es el lenguaje de marcado predeterminado. | `## Título en Markdown` o `**Texto en negrita**` |\n",
        "| **LaTeX** | Escribir y renderizar **fórmulas matemáticas** y ecuaciones. | `La energía es: $E=mc^2$` |\n",
        "| **HTML** | Formato y estilo avanzados, como cambiar el color del texto o añadir elementos complejos. | `<p style=\"color:red;\">Texto rojo</p>` |"
      ],
      "metadata": {
        "id": "yHKefBqw2-de"
      }
    },
    {
      "cell_type": "markdown",
      "source": [
        "### Markdown"
      ],
      "metadata": {
        "id": "YhAc3UtNSgdI"
      }
    },
    {
      "cell_type": "markdown",
      "source": [
        "#### Tipos de texto\n",
        "\n",
        "A continuación, se resumen los tipos de textos que podemos poner en una celda de \"texto\".\n",
        "\n",
        "Viñetas:\n",
        "\n",
        "- **Negrita**\n",
        "- *Cursiva*\n",
        "- ~tachado~"
      ],
      "metadata": {
        "id": "1U3ahX1C70Bg"
      }
    },
    {
      "cell_type": "markdown",
      "source": [
        "#### Formato código\n",
        "Para probar en una celda de código, la versión de python.\n",
        "\n",
        "```\n",
        "!python --version\n",
        "```"
      ],
      "metadata": {
        "id": "vHz_YieBT79s"
      }
    },
    {
      "cell_type": "code",
      "source": [
        "!python --version"
      ],
      "metadata": {
        "colab": {
          "base_uri": "https://localhost:8080/"
        },
        "id": "0ae5AqgGUpNB",
        "outputId": "6ebfbd07-dd73-401c-fdc4-6a1824cbb40c"
      },
      "execution_count": null,
      "outputs": [
        {
          "output_type": "stream",
          "name": "stdout",
          "text": [
            "Python 3.12.12\n"
          ]
        }
      ]
    },
    {
      "cell_type": "markdown",
      "source": [
        "### Latex"
      ],
      "metadata": {
        "id": "3HRbvdyUUzIr"
      }
    },
    {
      "cell_type": "markdown",
      "source": [
        "#### ¿Qué es y para qué sirve LaTeX en Colab?\n",
        "\n",
        "**LaTeX** es un sistema de marcado para la **tipografía de alta calidad**, especialmente usado en documentos técnicos y científicos.\n",
        "\n",
        "Su función principal es renderizar **fórmulas y ecuaciones matemáticas** de manera profesional."
      ],
      "metadata": {
        "id": "Jc7wTs-Q8Uju"
      }
    },
    {
      "cell_type": "markdown",
      "source": [
        "#### 🔔 **Ecuación de la Distribución Gaussiana (Normal)**\n",
        "\n",
        "La función de densidad de probabilidad (PDF) de una distribución Gaussiana se define como:\n",
        "\n",
        "$$f(x) = \\frac{1}{\\sigma\\sqrt{2\\pi}} e^{-\\frac{1}{2}\\left(\\frac{x-\\mu}{\\sigma}\\right)^2}$$\n",
        "\n",
        "---\n",
        "\n",
        "### Explicación de los Parámetros\n",
        "\n",
        "* **Media ($\\mu$):**\n",
        "    * Símbolo en LaTeX: `\\mu`.\n",
        "    * Determina el centro de la campana.\n",
        "\n",
        "* **Desviación Estándar ($\\sigma$):**\n",
        "    * Símbolo en LaTeX: `\\sigma`.\n",
        "    * Mide la dispersión de los datos (el ancho de la campana).\n",
        "\n",
        "* **Variable ($x$):**\n",
        "    * El valor cuya probabilidad de ocurrencia se está calculando."
      ],
      "metadata": {
        "id": "ArqDiFtl9wBv"
      }
    },
    {
      "cell_type": "code",
      "source": [
        "import numpy as np\n",
        "import matplotlib.pyplot as plt\n",
        "from scipy.stats import norm\n",
        "\n",
        "# Definir la función gaussiana (PDF de la distribución normal)\n",
        "def gaussian_pdf(x, mu, sigma):\n",
        "  \"\"\"Calcula la función de densidad de probabilidad (PDF) de una distribución normal.\"\"\"\n",
        "  return norm.pdf(x, loc=mu, scale=sigma)\n",
        "\n",
        "# Parámetros para la distribución Gaussiana\n",
        "mu = 0  # Media\n",
        "sigma = 1 # Desviación estándar\n",
        "\n",
        "# Generar datos de una distribución normal\n",
        "data = np.random.normal(mu, sigma, 1000)\n",
        "\n",
        "# Graficar el histograma de los datos generados\n",
        "plt.figure(figsize=(8, 6))\n",
        "plt.hist(data, bins=30, density=True, alpha=0.6, color='g', label='Histograma de datos')\n",
        "\n",
        "# Graficar la curva de la función gaussiana\n",
        "xmin, xmax = plt.xlim()\n",
        "x = np.linspace(xmin, xmax, 100)\n",
        "p = gaussian_pdf(x, mu, sigma)\n",
        "plt.plot(x, p, 'k', linewidth=2, label='Curva Gaussiana (PDF)')\n",
        "\n",
        "plt.title('Histograma de datos y Curva Gaussiana')\n",
        "plt.xlabel('Valor')\n",
        "plt.ylabel('Densidad de Probabilidad')\n",
        "plt.legend()\n",
        "plt.grid(True)\n",
        "plt.show()"
      ],
      "metadata": {
        "colab": {
          "base_uri": "https://localhost:8080/",
          "height": 564
        },
        "id": "GgvwwfOi9udy",
        "outputId": "b4c7b082-4fb2-4bb3-daf7-178d5d838ec7"
      },
      "execution_count": null,
      "outputs": [
        {
          "output_type": "display_data",
          "data": {
            "text/plain": [
              "<Figure size 800x600 with 1 Axes>"
            ],
            "image/png": "[encoded data removed]"
          },
          "metadata": {}
        }
      ]
    },
    {
      "cell_type": "markdown",
      "source": [
        "#### Mas expresiones en latex\n",
        "\n",
        "$\\LaTeX$\n",
        "\n",
        "Potencia:\n",
        "\n",
        "$\\left(\\frac{x^2}{y}\\right)$\n",
        "\n",
        "Sumatorios:\n",
        "\n",
        "$\\sum_{1}^n i = \\frac{n(n-1)}{2} $\n",
        "\n",
        "Raices:\n",
        "\n",
        "$\\sqrt[N]{27}$\n",
        "\n",
        "Matrices\n",
        "\n",
        "$\\begin{matrix}\n",
        "    1 & x & x^2 \\\\\n",
        "    1 & y & y^2 \\\\\n",
        "    1 & z & z^2 \\\\\n",
        "\\end{matrix}$\n",
        "\n",
        "Integrales:\n",
        "\n",
        "$\\int_0^n x dx$\n"
      ],
      "metadata": {
        "id": "TLOJZXxl-iut"
      }
    },
    {
      "cell_type": "markdown",
      "source": [
        "### **Latex. Elementos matemáticos:**\n",
        "\n",
        "**Potencias y raíces**\n",
        "\n",
        "$x^2,\\quad x^n,\\quad \\sqrt{x},\\quad \\sqrt[n]{x}$\n",
        "\n",
        "**Fracciones**\n",
        "\n",
        "$\\frac{a}{b},\\quad \\frac{x+1}{x-1}$\n",
        "\n",
        "**Sumas y productos**\n",
        "\n",
        "$\\sum_{i=1}^{n} i,\\quad \\prod_{k=1}^{m} k$\n",
        "\n",
        "**Límites y derivadas**\n",
        "\n",
        "$\\lim_{x \\to 0} f(x),\\quad \\frac{df}{dx},\\quad \\frac{\\partial f}{\\partial x}$\n",
        "\n",
        "**Integrales**\n",
        "\n",
        "$\\int f(x)\\,dx,\\quad \\int_{a}^{b} f(x)\\,dx$\n",
        "\n",
        "**Igualdades y desigualdades**\n",
        "\n",
        "$a = b,\\quad x \\neq y,\\quad x < y,\\quad x \\leq y,\\quad x > y,\\quad x \\geq y$\n",
        "\n",
        "**Paréntesis y agrupaciones**\n",
        "\n",
        "$(1 + x),\\quad [a, b],\\quad \\left( \\frac{a}{b} \\right)$\n",
        "\n",
        "**Funciones trigonométricas**\n",
        "\n",
        "$\\sin(x),\\quad \\cos(x),\\quad \\tan(x),\\quad \\cot(x),\\quad \\sec(x),\\quad \\csc(x)$\n",
        "\n",
        "**Funciones especiales**\n",
        "\n",
        "$\\log(x),\\quad \\ln(x),\\quad e^x,\\quad |x|,\\quad \\text{sgn}(x)$\n",
        "\n",
        "**Matrices**\n",
        "\n",
        "$\\begin{bmatrix}\n",
        "a & b \\\\\n",
        "c & d\n",
        "\\end{bmatrix}$\n",
        "\n",
        "**Sistemas de ecuaciones**\n",
        "\n",
        "$\\begin{cases}\n",
        "x + y = 2 \\\\\n",
        "2x - y = 3\n",
        "\\end{cases}$"
      ],
      "metadata": {
        "id": "o0Qctb0hV7tf"
      }
    },
    {
      "cell_type": "markdown",
      "source": [
        "### HTML\n",
        "\n",
        "## 🌐 ¿Qué es HTML?\n",
        "\n",
        "**HTML** (*HyperText Markup Language*) es el **lenguaje de marcado** fundamental que se usa para crear la **estructura y el contenido** de las páginas web.\n",
        "\n",
        "* Define elementos como párrafos, enlaces, imágenes y títulos.\n",
        "* En una celda de texto de Colab, te permite aplicar **estilos y estructuras web básicos** para enriquecer tu documentación (ej. `<p style=\"color: green;\">Texto verde</p>`)."
      ],
      "metadata": {
        "id": "Tvlr_N2TBhBZ"
      }
    },
    {
      "cell_type": "markdown",
      "source": [
        "<!DOCTYPE html>\n",
        "<html>\n",
        "<head>\n",
        "<title>Page Title</title>\n",
        "</head>\n",
        "<body>\n",
        "\n",
        "<h1>This is a Heading</h1>\n",
        "<p>This is a paragraph.</p>\n",
        "\n",
        "</body>\n",
        "</html>"
      ],
      "metadata": {
        "id": "4fm7hjmRYRBI"
      }
    }
  ]
}